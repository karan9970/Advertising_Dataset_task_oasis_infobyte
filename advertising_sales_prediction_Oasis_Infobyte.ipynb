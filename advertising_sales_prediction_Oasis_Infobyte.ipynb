{
 "cells": [
  {
   "cell_type": "code",
   "execution_count": 43,
   "id": "2431b1fb",
   "metadata": {
    "execution": {
     "iopub.execute_input": "2023-05-14T04:43:18.259613Z",
     "iopub.status.busy": "2023-05-14T04:43:18.259248Z",
     "iopub.status.idle": "2023-05-14T04:43:19.535287Z",
     "shell.execute_reply": "2023-05-14T04:43:19.534310Z"
    },
    "papermill": {
     "duration": 1.285306,
     "end_time": "2023-05-14T04:43:19.537632",
     "exception": false,
     "start_time": "2023-05-14T04:43:18.252326",
     "status": "completed"
    },
    "tags": []
   },
   "outputs": [],
   "source": [
    "import seaborn as sns\n",
    "import pandas as pd\n",
    "import numpy as np\n",
    "import warnings\n",
    "warnings.filterwarnings('ignore')"
   ]
  },
  {
   "cell_type": "code",
   "execution_count": 21,
   "id": "910dd166",
   "metadata": {
    "execution": {
     "iopub.execute_input": "2023-05-14T04:43:19.548207Z",
     "iopub.status.busy": "2023-05-14T04:43:19.547905Z",
     "iopub.status.idle": "2023-05-14T04:43:19.569712Z",
     "shell.execute_reply": "2023-05-14T04:43:19.568208Z"
    },
    "papermill": {
     "duration": 0.030069,
     "end_time": "2023-05-14T04:43:19.572486",
     "exception": false,
     "start_time": "2023-05-14T04:43:19.542417",
     "status": "completed"
    },
    "tags": []
   },
   "outputs": [],
   "source": [
    "df=pd.read_csv('Advertising.csv')"
   ]
  },
  {
   "cell_type": "code",
   "execution_count": 51,
   "id": "592fc4cf",
   "metadata": {},
   "outputs": [
    {
     "data": {
      "text/html": [
       "<div>\n",
       "<style scoped>\n",
       "    .dataframe tbody tr th:only-of-type {\n",
       "        vertical-align: middle;\n",
       "    }\n",
       "\n",
       "    .dataframe tbody tr th {\n",
       "        vertical-align: top;\n",
       "    }\n",
       "\n",
       "    .dataframe thead th {\n",
       "        text-align: right;\n",
       "    }\n",
       "</style>\n",
       "<table border=\"1\" class=\"dataframe\">\n",
       "  <thead>\n",
       "    <tr style=\"text-align: right;\">\n",
       "      <th></th>\n",
       "      <th>Unnamed: 0</th>\n",
       "      <th>TV</th>\n",
       "      <th>Radio</th>\n",
       "      <th>Newspaper</th>\n",
       "      <th>Sales</th>\n",
       "    </tr>\n",
       "  </thead>\n",
       "  <tbody>\n",
       "    <tr>\n",
       "      <th>0</th>\n",
       "      <td>1</td>\n",
       "      <td>230.1</td>\n",
       "      <td>37.8</td>\n",
       "      <td>69.2</td>\n",
       "      <td>22.1</td>\n",
       "    </tr>\n",
       "    <tr>\n",
       "      <th>1</th>\n",
       "      <td>2</td>\n",
       "      <td>44.5</td>\n",
       "      <td>39.3</td>\n",
       "      <td>45.1</td>\n",
       "      <td>10.4</td>\n",
       "    </tr>\n",
       "    <tr>\n",
       "      <th>2</th>\n",
       "      <td>3</td>\n",
       "      <td>17.2</td>\n",
       "      <td>45.9</td>\n",
       "      <td>69.3</td>\n",
       "      <td>9.3</td>\n",
       "    </tr>\n",
       "    <tr>\n",
       "      <th>3</th>\n",
       "      <td>4</td>\n",
       "      <td>151.5</td>\n",
       "      <td>41.3</td>\n",
       "      <td>58.5</td>\n",
       "      <td>18.5</td>\n",
       "    </tr>\n",
       "    <tr>\n",
       "      <th>4</th>\n",
       "      <td>5</td>\n",
       "      <td>180.8</td>\n",
       "      <td>10.8</td>\n",
       "      <td>58.4</td>\n",
       "      <td>12.9</td>\n",
       "    </tr>\n",
       "  </tbody>\n",
       "</table>\n",
       "</div>"
      ],
      "text/plain": [
       "   Unnamed: 0     TV  Radio  Newspaper  Sales\n",
       "0           1  230.1   37.8       69.2   22.1\n",
       "1           2   44.5   39.3       45.1   10.4\n",
       "2           3   17.2   45.9       69.3    9.3\n",
       "3           4  151.5   41.3       58.5   18.5\n",
       "4           5  180.8   10.8       58.4   12.9"
      ]
     },
     "execution_count": 51,
     "metadata": {},
     "output_type": "execute_result"
    }
   ],
   "source": [
    "df.head()"
   ]
  },
  {
   "cell_type": "code",
   "execution_count": 22,
   "id": "dc1be770",
   "metadata": {
    "execution": {
     "iopub.execute_input": "2023-05-14T04:43:19.583435Z",
     "iopub.status.busy": "2023-05-14T04:43:19.583034Z",
     "iopub.status.idle": "2023-05-14T04:43:19.592684Z",
     "shell.execute_reply": "2023-05-14T04:43:19.591460Z"
    },
    "papermill": {
     "duration": 0.017286,
     "end_time": "2023-05-14T04:43:19.594485",
     "exception": false,
     "start_time": "2023-05-14T04:43:19.577199",
     "status": "completed"
    },
    "tags": []
   },
   "outputs": [
    {
     "data": {
      "text/plain": [
       "(200, 5)"
      ]
     },
     "execution_count": 22,
     "metadata": {},
     "output_type": "execute_result"
    }
   ],
   "source": [
    "df.shape"
   ]
  },
  {
   "cell_type": "code",
   "execution_count": 23,
   "id": "78e627f0",
   "metadata": {
    "execution": {
     "iopub.execute_input": "2023-05-14T04:43:19.605599Z",
     "iopub.status.busy": "2023-05-14T04:43:19.605246Z",
     "iopub.status.idle": "2023-05-14T04:43:19.622618Z",
     "shell.execute_reply": "2023-05-14T04:43:19.621306Z"
    },
    "papermill": {
     "duration": 0.02524,
     "end_time": "2023-05-14T04:43:19.624556",
     "exception": false,
     "start_time": "2023-05-14T04:43:19.599316",
     "status": "completed"
    },
    "tags": []
   },
   "outputs": [
    {
     "data": {
      "text/plain": [
       "Unnamed: 0    0\n",
       "TV            0\n",
       "Radio         0\n",
       "Newspaper     0\n",
       "Sales         0\n",
       "dtype: int64"
      ]
     },
     "execution_count": 23,
     "metadata": {},
     "output_type": "execute_result"
    }
   ],
   "source": [
    "df.isnull().sum()"
   ]
  },
  {
   "cell_type": "code",
   "execution_count": 24,
   "id": "dc5df0c4",
   "metadata": {
    "execution": {
     "iopub.execute_input": "2023-05-14T04:43:19.635798Z",
     "iopub.status.busy": "2023-05-14T04:43:19.635439Z",
     "iopub.status.idle": "2023-05-14T04:43:19.661805Z",
     "shell.execute_reply": "2023-05-14T04:43:19.660950Z"
    },
    "papermill": {
     "duration": 0.034161,
     "end_time": "2023-05-14T04:43:19.663655",
     "exception": false,
     "start_time": "2023-05-14T04:43:19.629494",
     "status": "completed"
    },
    "tags": []
   },
   "outputs": [
    {
     "data": {
      "text/html": [
       "<div>\n",
       "<style scoped>\n",
       "    .dataframe tbody tr th:only-of-type {\n",
       "        vertical-align: middle;\n",
       "    }\n",
       "\n",
       "    .dataframe tbody tr th {\n",
       "        vertical-align: top;\n",
       "    }\n",
       "\n",
       "    .dataframe thead th {\n",
       "        text-align: right;\n",
       "    }\n",
       "</style>\n",
       "<table border=\"1\" class=\"dataframe\">\n",
       "  <thead>\n",
       "    <tr style=\"text-align: right;\">\n",
       "      <th></th>\n",
       "      <th>Unnamed: 0</th>\n",
       "      <th>TV</th>\n",
       "      <th>Radio</th>\n",
       "      <th>Newspaper</th>\n",
       "      <th>Sales</th>\n",
       "    </tr>\n",
       "  </thead>\n",
       "  <tbody>\n",
       "    <tr>\n",
       "      <th>0</th>\n",
       "      <td>1</td>\n",
       "      <td>230.1</td>\n",
       "      <td>37.8</td>\n",
       "      <td>69.2</td>\n",
       "      <td>22.1</td>\n",
       "    </tr>\n",
       "    <tr>\n",
       "      <th>1</th>\n",
       "      <td>2</td>\n",
       "      <td>44.5</td>\n",
       "      <td>39.3</td>\n",
       "      <td>45.1</td>\n",
       "      <td>10.4</td>\n",
       "    </tr>\n",
       "    <tr>\n",
       "      <th>2</th>\n",
       "      <td>3</td>\n",
       "      <td>17.2</td>\n",
       "      <td>45.9</td>\n",
       "      <td>69.3</td>\n",
       "      <td>9.3</td>\n",
       "    </tr>\n",
       "    <tr>\n",
       "      <th>3</th>\n",
       "      <td>4</td>\n",
       "      <td>151.5</td>\n",
       "      <td>41.3</td>\n",
       "      <td>58.5</td>\n",
       "      <td>18.5</td>\n",
       "    </tr>\n",
       "    <tr>\n",
       "      <th>4</th>\n",
       "      <td>5</td>\n",
       "      <td>180.8</td>\n",
       "      <td>10.8</td>\n",
       "      <td>58.4</td>\n",
       "      <td>12.9</td>\n",
       "    </tr>\n",
       "  </tbody>\n",
       "</table>\n",
       "</div>"
      ],
      "text/plain": [
       "   Unnamed: 0     TV  Radio  Newspaper  Sales\n",
       "0           1  230.1   37.8       69.2   22.1\n",
       "1           2   44.5   39.3       45.1   10.4\n",
       "2           3   17.2   45.9       69.3    9.3\n",
       "3           4  151.5   41.3       58.5   18.5\n",
       "4           5  180.8   10.8       58.4   12.9"
      ]
     },
     "execution_count": 24,
     "metadata": {},
     "output_type": "execute_result"
    }
   ],
   "source": [
    "df.head()"
   ]
  },
  {
   "cell_type": "code",
   "execution_count": 25,
   "id": "5a4fe365",
   "metadata": {
    "execution": {
     "iopub.execute_input": "2023-05-14T04:43:19.676113Z",
     "iopub.status.busy": "2023-05-14T04:43:19.675143Z",
     "iopub.status.idle": "2023-05-14T04:43:19.990826Z",
     "shell.execute_reply": "2023-05-14T04:43:19.989468Z"
    },
    "papermill": {
     "duration": 0.324793,
     "end_time": "2023-05-14T04:43:19.993541",
     "exception": false,
     "start_time": "2023-05-14T04:43:19.668748",
     "status": "completed"
    },
    "tags": []
   },
   "outputs": [
    {
     "data": {
      "text/plain": [
       "<AxesSubplot:>"
      ]
     },
     "execution_count": 25,
     "metadata": {},
     "output_type": "execute_result"
    },
    {
     "data": {
      "image/png": "[encoded data removed]",
      "text/plain": [
       "<Figure size 432x288 with 2 Axes>"
      ]
     },
     "metadata": {
      "needs_background": "light"
     },
     "output_type": "display_data"
    }
   ],
   "source": [
    "sns.heatmap(df.corr(),annot=True)"
   ]
  },
  {
   "cell_type": "code",
   "execution_count": 26,
   "id": "e49673ab",
   "metadata": {
    "execution": {
     "iopub.execute_input": "2023-05-14T04:43:20.006370Z",
     "iopub.status.busy": "2023-05-14T04:43:20.005933Z",
     "iopub.status.idle": "2023-05-14T04:43:20.373816Z",
     "shell.execute_reply": "2023-05-14T04:43:20.372966Z"
    },
    "papermill": {
     "duration": 0.376237,
     "end_time": "2023-05-14T04:43:20.375503",
     "exception": false,
     "start_time": "2023-05-14T04:43:19.999266",
     "status": "completed"
    },
    "tags": []
   },
   "outputs": [
    {
     "data": {
      "text/plain": [
       "<seaborn.axisgrid.FacetGrid at 0x1fe380799c0>"
      ]
     },
     "execution_count": 26,
     "metadata": {},
     "output_type": "execute_result"
    },
    {
     "data": {
      "image/png": "[encoded data removed]",
      "text/plain": [
       "<Figure size 360x360 with 1 Axes>"
      ]
     },
     "metadata": {
      "needs_background": "light"
     },
     "output_type": "display_data"
    }
   ],
   "source": [
    "sns.lmplot(data=df,x='Radio',y=\"Sales\")"
   ]
  },
  {
   "cell_type": "code",
   "execution_count": 27,
   "id": "80a35717",
   "metadata": {
    "execution": {
     "iopub.execute_input": "2023-05-14T04:43:20.389542Z",
     "iopub.status.busy": "2023-05-14T04:43:20.389017Z",
     "iopub.status.idle": "2023-05-14T04:43:20.728607Z",
     "shell.execute_reply": "2023-05-14T04:43:20.727290Z"
    },
    "papermill": {
     "duration": 0.349349,
     "end_time": "2023-05-14T04:43:20.731069",
     "exception": false,
     "start_time": "2023-05-14T04:43:20.381720",
     "status": "completed"
    },
    "tags": []
   },
   "outputs": [
    {
     "data": {
      "text/plain": [
       "<seaborn.axisgrid.FacetGrid at 0x1fe3b0dfe20>"
      ]
     },
     "execution_count": 27,
     "metadata": {},
     "output_type": "execute_result"
    },
    {
     "data": {
      "image/png": "[encoded data removed]",
      "text/plain": [
       "<Figure size 360x360 with 1 Axes>"
      ]
     },
     "metadata": {
      "needs_background": "light"
     },
     "output_type": "display_data"
    }
   ],
   "source": [
    "sns.lmplot(data=df,x='TV',y=\"Sales\")"
   ]
  },
  {
   "cell_type": "code",
   "execution_count": 28,
   "id": "4a148ded",
   "metadata": {
    "execution": {
     "iopub.execute_input": "2023-05-14T04:43:20.746295Z",
     "iopub.status.busy": "2023-05-14T04:43:20.745939Z",
     "iopub.status.idle": "2023-05-14T04:43:21.082357Z",
     "shell.execute_reply": "2023-05-14T04:43:21.081374Z"
    },
    "papermill": {
     "duration": 0.346736,
     "end_time": "2023-05-14T04:43:21.084562",
     "exception": false,
     "start_time": "2023-05-14T04:43:20.737826",
     "status": "completed"
    },
    "tags": []
   },
   "outputs": [
    {
     "data": {
      "text/plain": [
       "<seaborn.axisgrid.FacetGrid at 0x1fe3e36cca0>"
      ]
     },
     "execution_count": 28,
     "metadata": {},
     "output_type": "execute_result"
    },
    {
     "data": {
      "image/png": "[encoded data removed]",
      "text/plain": [
       "<Figure size 360x360 with 1 Axes>"
      ]
     },
     "metadata": {
      "needs_background": "light"
     },
     "output_type": "display_data"
    }
   ],
   "source": [
    "sns.lmplot(data=df,x='Newspaper',y=\"Sales\")"
   ]
  },
  {
   "cell_type": "code",
   "execution_count": 29,
   "id": "2b8e8f68",
   "metadata": {
    "execution": {
     "iopub.execute_input": "2023-05-14T04:43:21.101271Z",
     "iopub.status.busy": "2023-05-14T04:43:21.100788Z",
     "iopub.status.idle": "2023-05-14T04:43:21.491638Z",
     "shell.execute_reply": "2023-05-14T04:43:21.490922Z"
    },
    "papermill": {
     "duration": 0.402045,
     "end_time": "2023-05-14T04:43:21.493872",
     "exception": false,
     "start_time": "2023-05-14T04:43:21.091827",
     "status": "completed"
    },
    "tags": []
   },
   "outputs": [],
   "source": [
    "from sklearn.model_selection import train_test_split\n",
    "from sklearn.linear_model import LinearRegression"
   ]
  },
  {
   "cell_type": "code",
   "execution_count": 30,
   "id": "eef065df",
   "metadata": {
    "execution": {
     "iopub.execute_input": "2023-05-14T04:43:21.510936Z",
     "iopub.status.busy": "2023-05-14T04:43:21.509761Z",
     "iopub.status.idle": "2023-05-14T04:43:21.516336Z",
     "shell.execute_reply": "2023-05-14T04:43:21.515717Z"
    },
    "papermill": {
     "duration": 0.017248,
     "end_time": "2023-05-14T04:43:21.518677",
     "exception": false,
     "start_time": "2023-05-14T04:43:21.501429",
     "status": "completed"
    },
    "tags": []
   },
   "outputs": [],
   "source": [
    "x=df[['TV','Radio','Newspaper']]\n",
    "y=df['Sales']\n",
    "\n",
    "x_train,x_test,y_train,y_test=train_test_split(x,y,train_size=0.65, random_state=0)"
   ]
  },
  {
   "cell_type": "code",
   "execution_count": 31,
   "id": "b189d018",
   "metadata": {
    "execution": {
     "iopub.execute_input": "2023-05-14T04:43:21.535688Z",
     "iopub.status.busy": "2023-05-14T04:43:21.534480Z",
     "iopub.status.idle": "2023-05-14T04:43:21.561390Z",
     "shell.execute_reply": "2023-05-14T04:43:21.560383Z"
    },
    "papermill": {
     "duration": 0.037472,
     "end_time": "2023-05-14T04:43:21.563619",
     "exception": false,
     "start_time": "2023-05-14T04:43:21.526147",
     "status": "completed"
    },
    "tags": []
   },
   "outputs": [],
   "source": [
    "model=LinearRegression()\n",
    "\n",
    "model.fit(x_train,y_train)\n",
    "\n",
    "y_predict=model.predict(x_test)"
   ]
  },
  {
   "cell_type": "code",
   "execution_count": 32,
   "id": "4b6e8da7",
   "metadata": {
    "execution": {
     "iopub.execute_input": "2023-05-14T04:43:21.580445Z",
     "iopub.status.busy": "2023-05-14T04:43:21.580021Z",
     "iopub.status.idle": "2023-05-14T04:43:21.587614Z",
     "shell.execute_reply": "2023-05-14T04:43:21.586460Z"
    },
    "papermill": {
     "duration": 0.018573,
     "end_time": "2023-05-14T04:43:21.589711",
     "exception": false,
     "start_time": "2023-05-14T04:43:21.571138",
     "status": "completed"
    },
    "tags": []
   },
   "outputs": [
    {
     "name": "stdout",
     "output_type": "stream",
     "text": [
      "2.848845981475902\n",
      "[0.04441066 0.19656498 0.00357552]\n"
     ]
    }
   ],
   "source": [
    "print(model.intercept_)\n",
    "print(model.coef_)"
   ]
  },
  {
   "cell_type": "code",
   "execution_count": 33,
   "id": "56ee13cb",
   "metadata": {
    "execution": {
     "iopub.execute_input": "2023-05-14T04:43:21.606282Z",
     "iopub.status.busy": "2023-05-14T04:43:21.605907Z",
     "iopub.status.idle": "2023-05-14T04:43:21.618839Z",
     "shell.execute_reply": "2023-05-14T04:43:21.618068Z"
    },
    "papermill": {
     "duration": 0.023707,
     "end_time": "2023-05-14T04:43:21.620879",
     "exception": false,
     "start_time": "2023-05-14T04:43:21.597172",
     "status": "completed"
    },
    "tags": []
   },
   "outputs": [
    {
     "data": {
      "text/html": [
       "<div>\n",
       "<style scoped>\n",
       "    .dataframe tbody tr th:only-of-type {\n",
       "        vertical-align: middle;\n",
       "    }\n",
       "\n",
       "    .dataframe tbody tr th {\n",
       "        vertical-align: top;\n",
       "    }\n",
       "\n",
       "    .dataframe thead th {\n",
       "        text-align: right;\n",
       "    }\n",
       "</style>\n",
       "<table border=\"1\" class=\"dataframe\">\n",
       "  <thead>\n",
       "    <tr style=\"text-align: right;\">\n",
       "      <th></th>\n",
       "      <th>Actual</th>\n",
       "      <th>Predict</th>\n",
       "    </tr>\n",
       "  </thead>\n",
       "  <tbody>\n",
       "    <tr>\n",
       "      <th>0</th>\n",
       "      <td>11.3</td>\n",
       "      <td>10.017078</td>\n",
       "    </tr>\n",
       "    <tr>\n",
       "      <th>1</th>\n",
       "      <td>8.4</td>\n",
       "      <td>7.415322</td>\n",
       "    </tr>\n",
       "    <tr>\n",
       "      <th>2</th>\n",
       "      <td>8.7</td>\n",
       "      <td>7.005491</td>\n",
       "    </tr>\n",
       "    <tr>\n",
       "      <th>3</th>\n",
       "      <td>25.4</td>\n",
       "      <td>24.212379</td>\n",
       "    </tr>\n",
       "    <tr>\n",
       "      <th>4</th>\n",
       "      <td>11.7</td>\n",
       "      <td>12.066605</td>\n",
       "    </tr>\n",
       "    <tr>\n",
       "      <th>5</th>\n",
       "      <td>8.7</td>\n",
       "      <td>6.571338</td>\n",
       "    </tr>\n",
       "    <tr>\n",
       "      <th>6</th>\n",
       "      <td>7.2</td>\n",
       "      <td>13.115410</td>\n",
       "    </tr>\n",
       "    <tr>\n",
       "      <th>7</th>\n",
       "      <td>13.2</td>\n",
       "      <td>14.977876</td>\n",
       "    </tr>\n",
       "    <tr>\n",
       "      <th>8</th>\n",
       "      <td>9.2</td>\n",
       "      <td>11.040877</td>\n",
       "    </tr>\n",
       "    <tr>\n",
       "      <th>9</th>\n",
       "      <td>16.6</td>\n",
       "      <td>16.255128</td>\n",
       "    </tr>\n",
       "    <tr>\n",
       "      <th>10</th>\n",
       "      <td>24.2</td>\n",
       "      <td>23.042256</td>\n",
       "    </tr>\n",
       "    <tr>\n",
       "      <th>11</th>\n",
       "      <td>10.6</td>\n",
       "      <td>9.133528</td>\n",
       "    </tr>\n",
       "    <tr>\n",
       "      <th>12</th>\n",
       "      <td>10.5</td>\n",
       "      <td>10.344301</td>\n",
       "    </tr>\n",
       "    <tr>\n",
       "      <th>13</th>\n",
       "      <td>15.6</td>\n",
       "      <td>15.370656</td>\n",
       "    </tr>\n",
       "    <tr>\n",
       "      <th>14</th>\n",
       "      <td>11.8</td>\n",
       "      <td>11.569839</td>\n",
       "    </tr>\n",
       "    <tr>\n",
       "      <th>15</th>\n",
       "      <td>13.2</td>\n",
       "      <td>12.081157</td>\n",
       "    </tr>\n",
       "    <tr>\n",
       "      <th>16</th>\n",
       "      <td>17.4</td>\n",
       "      <td>18.576689</td>\n",
       "    </tr>\n",
       "    <tr>\n",
       "      <th>17</th>\n",
       "      <td>1.6</td>\n",
       "      <td>10.695014</td>\n",
       "    </tr>\n",
       "    <tr>\n",
       "      <th>18</th>\n",
       "      <td>14.7</td>\n",
       "      <td>16.040033</td>\n",
       "    </tr>\n",
       "    <tr>\n",
       "      <th>19</th>\n",
       "      <td>17.0</td>\n",
       "      <td>17.208418</td>\n",
       "    </tr>\n",
       "  </tbody>\n",
       "</table>\n",
       "</div>"
      ],
      "text/plain": [
       "    Actual    Predict\n",
       "0     11.3  10.017078\n",
       "1      8.4   7.415322\n",
       "2      8.7   7.005491\n",
       "3     25.4  24.212379\n",
       "4     11.7  12.066605\n",
       "5      8.7   6.571338\n",
       "6      7.2  13.115410\n",
       "7     13.2  14.977876\n",
       "8      9.2  11.040877\n",
       "9     16.6  16.255128\n",
       "10    24.2  23.042256\n",
       "11    10.6   9.133528\n",
       "12    10.5  10.344301\n",
       "13    15.6  15.370656\n",
       "14    11.8  11.569839\n",
       "15    13.2  12.081157\n",
       "16    17.4  18.576689\n",
       "17     1.6  10.695014\n",
       "18    14.7  16.040033\n",
       "19    17.0  17.208418"
      ]
     },
     "execution_count": 33,
     "metadata": {},
     "output_type": "execute_result"
    }
   ],
   "source": [
    "act_predict=pd.DataFrame({\n",
    "    'Actual':y_test.values.flatten(),\n",
    "    'Predict':y_predict.flatten()\n",
    "})\n",
    "act_predict.head(20)"
   ]
  },
  {
   "cell_type": "code",
   "execution_count": 34,
   "id": "dcec3a77",
   "metadata": {
    "execution": {
     "iopub.execute_input": "2023-05-14T04:43:21.637768Z",
     "iopub.status.busy": "2023-05-14T04:43:21.636910Z",
     "iopub.status.idle": "2023-05-14T04:43:21.961443Z",
     "shell.execute_reply": "2023-05-14T04:43:21.960313Z"
    },
    "papermill": {
     "duration": 0.33556,
     "end_time": "2023-05-14T04:43:21.963917",
     "exception": false,
     "start_time": "2023-05-14T04:43:21.628357",
     "status": "completed"
    },
    "tags": []
   },
   "outputs": [
    {
     "data": {
      "text/plain": [
       "<seaborn.axisgrid.FacetGrid at 0x1fe3e36e2c0>"
      ]
     },
     "execution_count": 34,
     "metadata": {},
     "output_type": "execute_result"
    },
    {
     "data": {
      "image/png": "[encoded data removed]",
      "text/plain": [
       "<Figure size 360x360 with 1 Axes>"
      ]
     },
     "metadata": {
      "needs_background": "light"
     },
     "output_type": "display_data"
    }
   ],
   "source": [
    "sns.lmplot(data=act_predict,x='Actual',y=\"Predict\")"
   ]
  },
  {
   "cell_type": "markdown",
   "id": "4b2325d5",
   "metadata": {
    "papermill": {
     "duration": 0.007344,
     "end_time": "2023-05-14T04:43:21.979693",
     "exception": false,
     "start_time": "2023-05-14T04:43:21.972349",
     "status": "completed"
    },
    "tags": []
   },
   "source": [
    "Evaluation of the model"
   ]
  },
  {
   "cell_type": "code",
   "execution_count": 35,
   "id": "24c44b1d",
   "metadata": {
    "execution": {
     "iopub.execute_input": "2023-05-14T04:43:21.997284Z",
     "iopub.status.busy": "2023-05-14T04:43:21.996862Z",
     "iopub.status.idle": "2023-05-14T04:43:22.001473Z",
     "shell.execute_reply": "2023-05-14T04:43:22.000685Z"
    },
    "papermill": {
     "duration": 0.015802,
     "end_time": "2023-05-14T04:43:22.003142",
     "exception": false,
     "start_time": "2023-05-14T04:43:21.987340",
     "status": "completed"
    },
    "tags": []
   },
   "outputs": [],
   "source": [
    "from sklearn.metrics import mean_absolute_error, mean_squared_error, r2_score"
   ]
  },
  {
   "cell_type": "code",
   "execution_count": 36,
   "id": "38098aad",
   "metadata": {
    "execution": {
     "iopub.execute_input": "2023-05-14T04:43:22.021135Z",
     "iopub.status.busy": "2023-05-14T04:43:22.020594Z",
     "iopub.status.idle": "2023-05-14T04:43:22.027756Z",
     "shell.execute_reply": "2023-05-14T04:43:22.026386Z"
    },
    "papermill": {
     "duration": 0.019017,
     "end_time": "2023-05-14T04:43:22.030162",
     "exception": false,
     "start_time": "2023-05-14T04:43:22.011145",
     "status": "completed"
    },
    "tags": []
   },
   "outputs": [
    {
     "name": "stdout",
     "output_type": "stream",
     "text": [
      "Mean_absolute_error: 1.1772969293020834\n",
      "Mean_squared_error: 3.2848476202765773\n",
      "Squre_Mean_absolute_error: 1.085033146637504\n",
      "r2_score: 0.8715709300673591\n"
     ]
    }
   ],
   "source": [
    "print(\"Mean_absolute_error:\",mean_absolute_error(y_test,y_predict))\n",
    "print(\"Mean_squared_error:\",mean_squared_error(y_test,y_predict))\n",
    "print(\"Squre_Mean_absolute_error:\",np.sqrt(mean_absolute_error(y_test,y_predict)))\n",
    "print(\"r2_score:\",r2_score(y_test,y_predict))"
   ]
  },
  {
   "cell_type": "code",
   "execution_count": 39,
   "id": "eefeae16",
   "metadata": {
    "papermill": {
     "duration": 0.00796,
     "end_time": "2023-05-14T04:43:22.046586",
     "exception": false,
     "start_time": "2023-05-14T04:43:22.038626",
     "status": "completed"
    },
    "tags": []
   },
   "outputs": [],
   "source": [
    "from sklearn.metrics import classification_report,confusion_matrix"
   ]
  }
 ],
 "metadata": {
  "kernelspec": {
   "display_name": "Python 3 (ipykernel)",
   "language": "python",
   "name": "python3"
  },
  "language_info": {
   "codemirror_mode": {
    "name": "ipython",
    "version": 3
   },
   "file_extension": ".py",
   "mimetype": "text/x-python",
   "name": "python",
   "nbconvert_exporter": "python",
   "pygments_lexer": "ipython3",
   "version": "3.10.2"
  },
  "papermill": {
   "default_parameters": {},
   "duration": 14.262003,
   "end_time": "2023-05-14T04:43:23.176581",
   "environment_variables": {},
   "exception": null,
   "input_path": "__notebook__.ipynb",
   "output_path": "__notebook__.ipynb",
   "parameters": {},
   "start_time": "2023-05-14T04:43:08.914578",
   "version": "2.4.0"
  }
 },
 "nbformat": 4,
 "nbformat_minor": 5
}
